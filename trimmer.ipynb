{
 "cells": [
  {
   "cell_type": "code",
   "execution_count": 1,
   "id": "vulnerable-boating",
   "metadata": {},
   "outputs": [],
   "source": [
    "import numpy as np\n",
    "import re\n",
    "import matplotlib.pyplot as plt\n",
    "from Bio import SeqIO\n",
    "from Bio.Seq import Seq\n",
    "import gzip"
   ]
  },
  {
   "cell_type": "code",
   "execution_count": 2,
   "id": "surface-expression",
   "metadata": {},
   "outputs": [],
   "source": [
    "def complocalX(t,p,i):\n",
    "    score = 0\n",
    "    for j in range(len(p)):\n",
    "        if(t[i+j] == p[j]):\n",
    "            score += 1\n",
    "        else:\n",
    "            break\n",
    "    return score\n",
    "\n",
    "def scorerX(text,pattern):\n",
    "    #zero padding first\n",
    "    text = text + \"{0}\".format(len(pattern)*\" \")\n",
    "    matcharr = []\n",
    "    for i in range(len(text)-len(pattern)):\n",
    "        matcharr.append(complocalX(text,pattern,i))\n",
    "    \n",
    "    return np.array(matcharr)"
   ]
  },
  {
   "cell_type": "code",
   "execution_count": 3,
   "id": "indian-bumper",
   "metadata": {},
   "outputs": [
    {
     "data": {
      "image/png": "[encoded data removed]",
      "text/plain": [
       "<Figure size 432x288 with 1 Axes>"
      ]
     },
     "metadata": {
      "needs_background": "light"
     },
     "output_type": "display_data"
    }
   ],
   "source": [
    "text = \"TAGGTATGGAGATCGGAAGAGCGTCGTGTAATAGCACTGTC\"\n",
    "pattern = \"AGATCGGAAGAGCGTCGTGTAGGGAAAGAGTGT\"\n",
    "\n",
    "score = scorerX(text,pattern)\n",
    "plt.bar(range(len(score)),score)\n",
    "#plt.ylim([0,1])\n",
    "plt.title(\"amount of consecutive pattern found in sequence\")\n",
    "plt.show()"
   ]
  },
  {
   "cell_type": "code",
   "execution_count": null,
   "id": "monetary-breast",
   "metadata": {},
   "outputs": [],
   "source": [
    "adapter = \"AGATCGGAAGAGCGTCGTGTAGGGAAAGAGTGT\"\n",
    "sequences = []\n",
    "\n",
    "with gzip.open(\"fastq/25_r2.umi.fastq.gz\", \"rt\") as handle:\n",
    "    for record in SeqIO.parse(handle, \"fastq\"):\n",
    "        score = scorerX(str(record.seq),adapter)\n",
    "        #print(\"{0:.2f}\".format(np.max(score)),\"\\t\", np.argmax(score))\n",
    "        new = record.seq[:np.argmax(score)]\n",
    "        if(len(new[:-12])>15):\n",
    "            #print(new[:-12])\n",
    "            phred = record.letter_annotations['phred_quality']\n",
    "            record.letter_annotations = {}\n",
    "            record.seq = new[:-12]\n",
    "            record.letter_annotations = {'phred_quality': phred[:len(new[:-12])]}\n",
    "            sequences.append(record)\n",
    "\n",
    "SeqIO.write(sequences, \"25_r2_final_v2.fastq\", \"fastq\")"
   ]
  },
  {
   "cell_type": "markdown",
   "id": "centered-newark",
   "metadata": {},
   "source": [
    "# take umi of opp read, rev complement it and search for it in the record, if present, trim"
   ]
  },
  {
   "cell_type": "code",
   "execution_count": 2,
   "id": "continuous-comfort",
   "metadata": {},
   "outputs": [],
   "source": [
    "sequences = []\n",
    "with gzip.open(\"fastq/25_r1.umi.fastq.gz\", \"rt\") as handle:\n",
    "    for record in SeqIO.parse(handle, \"fastq\"):\n",
    "        rtwoumi = str(Seq(record.name.split(\"_\")[1][-10:]).reverse_complement())\n",
    "        z = re.search(\"(.*)({0})\".format(rtwoumi[:5]),str(record.seq))\n",
    "        #if not z:\n",
    "        #    z = re.search(\"(.*)({0})\".format(rtwoumi[:5]),str(record.seq))\n",
    "        try:\n",
    "            if len(z.group(1))>15:\n",
    "                phred = record.letter_annotations['phred_quality']\n",
    "                record.letter_annotations = {}\n",
    "                record.seq = Seq(z.group(1))\n",
    "                record.letter_annotations = {'phred_quality': phred[:len(z.group(1))]}\n",
    "                sequences.append(record)\n",
    "        except AttributeError:\n",
    "            if(len(record.seq)>14):\n",
    "                sequences.append(record)\n",
    "            else:\n",
    "                continue"
   ]
  },
  {
   "cell_type": "code",
   "execution_count": 3,
   "id": "destroyed-elephant",
   "metadata": {},
   "outputs": [
    {
     "data": {
      "text/plain": [
       "7859251"
      ]
     },
     "execution_count": 3,
     "metadata": {},
     "output_type": "execute_result"
    }
   ],
   "source": [
    "SeqIO.write(sequences, \"25_r1_final.fastq\", \"fastq\")"
   ]
  },
  {
   "cell_type": "markdown",
   "id": "further-threat",
   "metadata": {},
   "source": [
    "# input libs"
   ]
  },
  {
   "cell_type": "code",
   "execution_count": null,
   "id": "canadian-harbor",
   "metadata": {},
   "outputs": [],
   "source": [
    "sequences = []\n",
    "with gzip.open(\"fastq/24_r1.penult.fastq.gz\", \"rt\") as handle:\n",
    "    for record in SeqIO.parse(handle, \"fastq\"):\n",
    "        rtwoumi = str(Seq(record.name.split(\"_\")[1]).reverse_complement())\n",
    "        score = scorerX(str(record.seq, rtwoumi)\n",
    "        new = record.seq[:np.argmax(score)]\n",
    "        if(len(new)>14):\n",
    "            phred = record.letter_annotations['phred_quality']\n",
    "            record.letter_annotations = {}\n",
    "            record.seq = new\n",
    "            record.letter_annotations = {'phred_quality': phred[:len(new)]}\n",
    "            sequences.append(record)\n",
    "\n",
    "SeqIO.write(sequences, \"24_r1_final.fastq\", \"fastq\")"
   ]
  },
  {
   "cell_type": "code",
   "execution_count": null,
   "id": "quick-helen",
   "metadata": {},
   "outputs": [],
   "source": [
    "sequences = []\n",
    "with gzip.open(\"fastq/24_r1.umi.fastq.gz\", \"rt\") as handle:\n",
    "    for record in SeqIO.parse(handle, \"fastq\"):\n",
    "        rtwoumi = str(Seq(record.name.split(\"_\")[1]).reverse_complement())\n",
    "        z = re.search(\"(.*)({0})\".format(rtwoumi[:5]),str(record.seq))\n",
    "        try:\n",
    "            if len(z.group(1))>15:\n",
    "                phred = record.letter_annotations['phred_quality']\n",
    "                record.letter_annotations = {}\n",
    "                record.seq = Seq(z.group(1))\n",
    "                record.letter_annotations = {'phred_quality': phred[:len(z.group(1))]}\n",
    "                sequences.append(record)\n",
    "        except AttributeError:\n",
    "            if(len(record.seq)>14):\n",
    "                sequences.append(record)\n",
    "            else:\n",
    "                continue"
   ]
  }
 ],
 "metadata": {
  "kernelspec": {
   "display_name": "Python 3",
   "language": "python",
   "name": "python3"
  },
  "language_info": {
   "codemirror_mode": {
    "name": "ipython",
    "version": 3
   },
   "file_extension": ".py",
   "mimetype": "text/x-python",
   "name": "python",
   "nbconvert_exporter": "python",
   "pygments_lexer": "ipython3",
   "version": "3.8.10"
  }
 },
 "nbformat": 4,
 "nbformat_minor": 5
}

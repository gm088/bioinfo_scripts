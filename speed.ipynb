{
 "cells": [
  {
   "cell_type": "code",
   "execution_count": 1,
   "source": [
    "import sys\n",
    "import os\n",
    "import numpy as np\n",
    "import matplotlib.pyplot as plt\n",
    "from copy import deepcopy\n",
    "import subprocess\n",
    "import pandas as pd\n",
    "from pybedtools import BedTool\n",
    "sys.path.append('/Users/IEO5559/Desktop/misc/splice/script')\n",
    "import spl\n",
    "from math import ceil\n",
    "import pickle\n",
    "from matplotlib.backends.backend_pdf import PdfPages"
   ],
   "outputs": [],
   "metadata": {}
  },
  {
   "cell_type": "markdown",
   "source": [
    "# params and preprocessing"
   ],
   "metadata": {}
  },
  {
   "cell_type": "markdown",
   "source": [
    "for the processing below, in general take care, might need to extract params first to see the sample boundaries to make sure the datamatrix fields are extracted correctly, below is assumed that computematrix was run with before=1000 and after=75000. Can check 'params' and re-rerun if necessary"
   ],
   "metadata": {}
  },
  {
   "cell_type": "code",
   "execution_count": 2,
   "source": [
    "def read(fname):\n",
    "    matrix = subprocess.run([\"gunzip\", \"-c\", fname], capture_output=True, text=True)\n",
    "    int1 = subprocess.run([\"tail\", \"-n\", \"+2\"], input=matrix.stdout, capture_output=True, text=True)\n",
    "    datamatrix = subprocess.run([\"cut\", \"-f\", \"7-43000\"], input=int1.stdout, capture_output=True, text=True)\n",
    "    data = [i.split(\"\\t\") for i in datamatrix.stdout.split(\"\\n\")]\n",
    "    TSS = np.array(data[:-1], dtype=float)     #because of the final newline character\n",
    "    meta = subprocess.run([\"head\", \"-n\", \"1\"], input=matrix.stdout, capture_output=True, text=True)\n",
    "    params = meta.stdout \n",
    "    print(params)\n",
    "    \n",
    "    intermed = subprocess.run([\"cut\", \"-f\", \"4\"],capture_output=True, input=matrix.stdout, text=True)\n",
    "    regions = subprocess.run([\"tail\", \"-n\", \"+2\"], input=intermed.stdout, capture_output=True, text=True)\n",
    "    regionlist = regions.stdout.split(\"\\n\")[:-1]      #the final newline character\n",
    "    print(len(regionlist))\n",
    "    \n",
    "    bed = subprocess.run([\"cut\", \"-f\", \"1-6\"],capture_output=True, input=matrix.stdout, text=True)\n",
    "    bedint = subprocess.run([\"tail\", \"-n\", \"+2\"], input=bed.stdout, capture_output=True, text=True)\n",
    "    bed = BedTool(bedint.stdout, from_string=True)\n",
    "    beddf = pd.read_table(bed.fn, header=None)\n",
    "    \n",
    "    return TSS, regionlist, beddf"
   ],
   "outputs": [],
   "metadata": {}
  },
  {
   "cell_type": "code",
   "execution_count": 3,
   "source": [
    "plus, list1, beddf1 = read(\"ups10k/ups10kpl.tab.gz\")\n",
    "minus, list2, beddf2 = read(\"ups10k/ups10kmin.tab.gz\")\n",
    "#bothstrands, regionlist, beddf = read(\"downs2ups20k/bothstrands_1kb.gz\")"
   ],
   "outputs": [
    {
     "output_type": "stream",
     "name": "stdout",
     "text": [
      "@{\"upstream\":[1000,1000,1000,1000,1000,1000,1000,1000,1000,1000,1000,1000],\"downstream\":[75000,75000,75000,75000,75000,75000,75000,75000,75000,75000,75000,75000],\"body\":[0,0,0,0,0,0,0,0,0,0,0,0],\"bin size\":[100,100,100,100,100,100,100,100,100,100,100,100],\"ref point\":[\"TSS\",\"TSS\",\"TSS\",\"TSS\",\"TSS\",\"TSS\",\"TSS\",\"TSS\",\"TSS\",\"TSS\",\"TSS\",\"TSS\"],\"verbose\":false,\"bin avg type\":\"mean\",\"missing data as zero\":true,\"min threshold\":null,\"max threshold\":null,\"scale\":1,\"skip zeros\":true,\"nan after end\":false,\"proc number\":8,\"sort regions\":\"keep\",\"sort using\":\"mean\",\"unscaled 5 prime\":[0,0,0,0,0,0,0,0,0,0,0,0],\"unscaled 3 prime\":[0,0,0,0,0,0,0,0,0,0,0,0],\"group_labels\":[\"genes\"],\"group_boundaries\":[0,154],\"sample_labels\":[\"09_for\",\"10_for\",\"11_for\",\"12_for\",\"13_for\",\"14_for\",\"15_for\",\"16_for\",\"17_for\",\"18_for\",\"19_for\",\"20_for\"],\"sample_boundaries\":[0,760,1520,2280,3040,3800,4560,5320,6080,6840,7600,8360,9120]}\n",
      "\n",
      "154\n",
      "@{\"upstream\":[1000,1000,1000,1000,1000,1000,1000,1000,1000,1000,1000,1000],\"downstream\":[75000,75000,75000,75000,75000,75000,75000,75000,75000,75000,75000,75000],\"body\":[0,0,0,0,0,0,0,0,0,0,0,0],\"bin size\":[100,100,100,100,100,100,100,100,100,100,100,100],\"ref point\":[\"TSS\",\"TSS\",\"TSS\",\"TSS\",\"TSS\",\"TSS\",\"TSS\",\"TSS\",\"TSS\",\"TSS\",\"TSS\",\"TSS\"],\"verbose\":false,\"bin avg type\":\"mean\",\"missing data as zero\":true,\"min threshold\":null,\"max threshold\":null,\"scale\":1,\"skip zeros\":true,\"nan after end\":false,\"proc number\":8,\"sort regions\":\"keep\",\"sort using\":\"mean\",\"unscaled 5 prime\":[0,0,0,0,0,0,0,0,0,0,0,0],\"unscaled 3 prime\":[0,0,0,0,0,0,0,0,0,0,0,0],\"group_labels\":[\"genes\"],\"group_boundaries\":[0,182],\"sample_labels\":[\"09_rev\",\"10_rev\",\"11_rev\",\"12_rev\",\"13_rev\",\"14_rev\",\"15_rev\",\"16_rev\",\"17_rev\",\"18_rev\",\"19_rev\",\"20_rev\"],\"sample_boundaries\":[0,760,1520,2280,3040,3800,4560,5320,6080,6840,7600,8360,9120]}\n",
      "\n",
      "182\n"
     ]
    }
   ],
   "metadata": {}
  },
  {
   "cell_type": "code",
   "execution_count": 4,
   "source": [
    "bothstrands = np.append(plus, minus, axis=0)\n",
    "regionlist = list1 + list2\n",
    "beddf = pd.concat([beddf1, beddf2])\n",
    "bps = 760\n",
    "xbins = list(range(bps))\n",
    "numsamples = 12\n",
    "labels = [\"DMSO-ctl\",\"DMSO-siZC3H4\",\"CTL+0\",\"siZC3H4+0\",\"CTL+2.5\",\"siZC3H4+2.5\",\"CTL+5\",\"siZC3H4+5\",\"CTL+7.5\",\"siZC3H4+7.5\",\"CTL+10\",\"siZC3H4+10\"]\n",
    "control_index = 2"
   ],
   "outputs": [],
   "metadata": {}
  },
  {
   "cell_type": "code",
   "execution_count": 5,
   "source": [
    "#junctionsall = spl.junctions('junctions/44_j.bed')\n",
    "#junctionsall.remove_overhang()\n",
    "#junctionsallbed = spl.df2bedtool(junctionsall.data)\n",
    "#\n",
    "#relevant_juncs = junctionsallbed.intersect(bed,u=True,s=True)\n",
    "#relevant_regions = bed.intersect(junctionsallbed,c=True,s=True,)"
   ],
   "outputs": [],
   "metadata": {}
  },
  {
   "cell_type": "markdown",
   "source": [
    "# begin"
   ],
   "metadata": {}
  },
  {
   "cell_type": "code",
   "execution_count": 6,
   "source": [
    "def split(matrix,bins_per_sample,num_samples):\n",
    "    samples = [matrix[:,(bins_per_sample)*i:(bins_per_sample)*(i+1)] for i in range(num_samples)]\n",
    "    return samples\n",
    "\n",
    "def normalise(arr):\n",
    "    if(np.max(np.array(arr).flatten(order='C'))!=0):\n",
    "        return arr/(np.max(np.array(arr).flatten(order='C')))\n",
    "    else:\n",
    "        return arr\n",
    "\n",
    "def spd(indices):\n",
    "    result = []\n",
    "    times = [np.nan,np.nan,10,10,20,20,1,1]\n",
    "    for i in range(len(times)):\n",
    "        result.append((indices[i])/(times[i]*10))\n",
    "    return result"
   ],
   "outputs": [],
   "metadata": {}
  },
  {
   "cell_type": "code",
   "execution_count": 7,
   "source": [
    "#preresults = split(bothstrands,bps,numsamples)\n",
    "results = split(bothstrands,bps,numsamples)\n",
    "#results = [np.array([normalise(i) for i in j])*np.mean(j) for j in preresults]"
   ],
   "outputs": [],
   "metadata": {}
  },
  {
   "cell_type": "code",
   "execution_count": null,
   "source": [
    "results = []\n",
    "for i in preresults:\n",
    "    tmp = []\n",
    "    for j in i:\n",
    "        tmp.append(normalise(j))\n",
    "    results.append(tmp)"
   ],
   "outputs": [],
   "metadata": {}
  },
  {
   "cell_type": "code",
   "execution_count": 8,
   "source": [
    "averages = [np.mean(i,axis=0) for i in results]\n",
    "for i in averages:\n",
    "    plt.plot(i)"
   ],
   "outputs": [
    {
     "output_type": "display_data",
     "data": {
      "text/plain": [
       "<Figure size 432x288 with 1 Axes>"
      ],
      "image/png": "[encoded data removed]"
     },
     "metadata": {
      "needs_background": "light"
     }
    }
   ],
   "metadata": {}
  },
  {
   "cell_type": "code",
   "execution_count": null,
   "source": [
    "with open('ups.pickle', 'wb') as f:\n",
    "    pickle.dump(averages, f)"
   ],
   "outputs": [],
   "metadata": {}
  },
  {
   "cell_type": "markdown",
   "source": [
    "# simple smoothing"
   ],
   "metadata": {}
  },
  {
   "cell_type": "code",
   "execution_count": null,
   "source": [
    "smooth = [spl.csumsmooth(i,5) for i in averages]\n",
    "for i in smooth:\n",
    "    plt.plot(i)"
   ],
   "outputs": [],
   "metadata": {}
  },
  {
   "cell_type": "markdown",
   "source": [
    "# error"
   ],
   "metadata": {}
  },
  {
   "cell_type": "code",
   "execution_count": 9,
   "source": [
    "r2 = []\n",
    "for i in results:\n",
    "    inner1 =[]\n",
    "    for j in i:\n",
    "        inner1.append(spl.csumsmooth(j,5))\n",
    "    r2.append(inner1)"
   ],
   "outputs": [],
   "metadata": {}
  },
  {
   "cell_type": "code",
   "execution_count": 14,
   "source": [
    "berr = spl.allstop(r2,bps,0.1)\n",
    "#berr, corr = spl.allstop1(r2,bps,0.05)"
   ],
   "outputs": [],
   "metadata": {}
  },
  {
   "cell_type": "code",
   "execution_count": 10,
   "source": [
    "berr2 = []\n",
    "for i in range(len(r2)):\n",
    "    err2 = []\n",
    "    for j in range(len(r2[i])):\n",
    "        err2.append(spl.newstop(r2[i][j],r2[control_index][j]))\n",
    "    berr2.append(err2)"
   ],
   "outputs": [],
   "metadata": {}
  },
  {
   "cell_type": "code",
   "execution_count": null,
   "source": [
    "t = 93\n",
    "diff = r2[5][t]-r2[7][t]\n",
    "ddx = np.abs(np.array(diff[1:])-np.array(diff[:-1]))\n",
    "ddx = spl.triangle(spl.triangle(spl.triangle(ddx)))\n",
    "plt.plot(spl.triangle(ddx), linestyle='--')\n",
    "#plt.plot(r2[5][t])\n",
    "#plt.plot(r2[7][t])\n",
    "plt.hlines(0.05*np.max(ddx),0,70)\n",
    "#np.where(ddx<0.05*np.max(ddx))[0][0]\n",
    "np.where(ddx[5:] < 0.05*np.max(spl.triangle(ddx)))[0][0]"
   ],
   "outputs": [],
   "metadata": {}
  },
  {
   "cell_type": "code",
   "execution_count": null,
   "source": [
    "#correction = [i*100 for i in corr]\n",
    "\n",
    "#beddf.iloc[:,1] += correction[:]\n",
    "#beddf.iloc[469:,2] -= correction[469:]\n",
    "\n",
    "#beddf.to_csv('corr_mb.bed', header=False, index=False, sep= \"\\t\")"
   ],
   "outputs": [],
   "metadata": {}
  },
  {
   "cell_type": "markdown",
   "source": [
    "# res and vis"
   ],
   "metadata": {}
  },
  {
   "cell_type": "code",
   "execution_count": 15,
   "source": [
    "stdbin=[]\n",
    "for i in berr:\n",
    "    print(np.mean(i), np.std(i))\n",
    "    stdbin.append(np.std(i))"
   ],
   "outputs": [
    {
     "output_type": "stream",
     "name": "stdout",
     "text": [
      "33.07142857142857 55.827388250853765\n",
      "40.705357142857146 56.17340897669399\n",
      "120.19642857142857 163.46139630653778\n",
      "80.13988095238095 137.24233894824815\n",
      "63.767857142857146 116.67167369600563\n",
      "50.19642857142857 94.46549249836781\n",
      "44.413690476190474 74.1700406607579\n",
      "44.848214285714285 71.8384691622332\n",
      "41.62797619047619 40.860116229462044\n",
      "44.44940476190476 30.97815762187435\n",
      "40.99107142857143 47.180598224821615\n",
      "58.19047619047619 30.658342370651738\n"
     ]
    }
   ],
   "metadata": {}
  },
  {
   "cell_type": "code",
   "execution_count": 16,
   "source": [
    "for i in [2,3,4,5]:\n",
    "    print(spd(CI)[i], \"\\t\", spd(stdbin)[i])"
   ],
   "outputs": [
    {
     "output_type": "error",
     "ename": "NameError",
     "evalue": "name 'CI' is not defined",
     "traceback": [
      "\u001b[0;31m---------------------------------------------------------------------------\u001b[0m",
      "\u001b[0;31mNameError\u001b[0m                                 Traceback (most recent call last)",
      "\u001b[0;32m<ipython-input-16-bfe2043f35eb>\u001b[0m in \u001b[0;36m<module>\u001b[0;34m\u001b[0m\n\u001b[1;32m      1\u001b[0m \u001b[0;32mfor\u001b[0m \u001b[0mi\u001b[0m \u001b[0;32min\u001b[0m \u001b[0;34m[\u001b[0m\u001b[0;36m2\u001b[0m\u001b[0;34m,\u001b[0m\u001b[0;36m3\u001b[0m\u001b[0;34m,\u001b[0m\u001b[0;36m4\u001b[0m\u001b[0;34m,\u001b[0m\u001b[0;36m5\u001b[0m\u001b[0;34m]\u001b[0m\u001b[0;34m:\u001b[0m\u001b[0;34m\u001b[0m\u001b[0;34m\u001b[0m\u001b[0m\n\u001b[0;32m----> 2\u001b[0;31m     \u001b[0mprint\u001b[0m\u001b[0;34m(\u001b[0m\u001b[0mspd\u001b[0m\u001b[0;34m(\u001b[0m\u001b[0mCI\u001b[0m\u001b[0;34m)\u001b[0m\u001b[0;34m[\u001b[0m\u001b[0mi\u001b[0m\u001b[0;34m]\u001b[0m\u001b[0;34m,\u001b[0m \u001b[0;34m\"\\t\"\u001b[0m\u001b[0;34m,\u001b[0m \u001b[0mspd\u001b[0m\u001b[0;34m(\u001b[0m\u001b[0mstdbin\u001b[0m\u001b[0;34m)\u001b[0m\u001b[0;34m[\u001b[0m\u001b[0mi\u001b[0m\u001b[0;34m]\u001b[0m\u001b[0;34m)\u001b[0m\u001b[0;34m\u001b[0m\u001b[0;34m\u001b[0m\u001b[0m\n\u001b[0m",
      "\u001b[0;31mNameError\u001b[0m: name 'CI' is not defined"
     ]
    }
   ],
   "metadata": {}
  },
  {
   "cell_type": "code",
   "execution_count": 17,
   "source": [
    "fig = plt.figure(figsize=(10,7))\n",
    "#yt = [i*10 for i in range(10)]\n",
    "plt.boxplot(berr[:], showfliers=False, notch=True)\n",
    "plt.xticks(list(range(1,13)),labels, rotation=90)\n",
    "#plt.ylim([0,bps])\n",
    "#plt.yticks([i for i in yt],yt)\n",
    "plt.title(\"plot, n={0}\".format(len(regionlist)))\n",
    "fig.patch.set_facecolor('white')\n",
    "plt.show()"
   ],
   "outputs": [
    {
     "output_type": "display_data",
     "data": {
      "text/plain": [
       "<Figure size 720x504 with 1 Axes>"
      ],
      "image/png": "[encoded data removed]"
     },
     "metadata": {}
    }
   ],
   "metadata": {}
  },
  {
   "cell_type": "code",
   "execution_count": null,
   "source": [
    "with open('berr_ups10k.pickle', 'wb') as f:\n",
    "    pickle.dump(berr,f)"
   ],
   "outputs": [],
   "metadata": {}
  },
  {
   "cell_type": "code",
   "execution_count": null,
   "source": [
    "#want to find the speed in last 10 mins\n",
    "uh = []\n",
    "uh.append((np.array(berr[5]) - np.array(berr[3]))/10)\n",
    "uh.append((np.array(berr[4]) - np.array(berr[2]))/10)\n",
    "plt.boxplot(uh[:],showfliers=False)\n",
    "plt.show()"
   ],
   "outputs": [],
   "metadata": {}
  },
  {
   "cell_type": "markdown",
   "source": [
    "# processivity"
   ],
   "metadata": {}
  },
  {
   "cell_type": "code",
   "execution_count": null,
   "source": [
    "len(relevant_juncs)"
   ],
   "outputs": [],
   "metadata": {}
  },
  {
   "cell_type": "markdown",
   "source": [
    "# ALL SPLICING ACTIVITY THAT COULD HAVE POSSIBLY OCCURED IN 20 MIN (I.E. APPROX 70 KB FROM TSS)"
   ],
   "metadata": {}
  },
  {
   "cell_type": "code",
   "execution_count": null,
   "source": [
    "indiv = list(zip(regionlist, r2[control_index], r2[6], berr2[6],berr[5]))"
   ],
   "outputs": [],
   "metadata": {}
  },
  {
   "cell_type": "code",
   "execution_count": null,
   "source": [
    "fig = plt.figure(figsize=(20,20))\n",
    "start = 0\n",
    "for i in range(start,start+25):\n",
    "    plt.subplot(5,5,i+1-start)\n",
    "    #plt.xticks([])\n",
    "    diff = indiv[i][1]-indiv[i][2]\n",
    "    ddx = np.abs(np.array(diff[1:])-np.array(diff[:-1]))\n",
    "    #plt.plot(diff, linestyle='--')\n",
    "    env = np.max(diff)*np.exp(0.05*np.linspace(0,-71,71))\n",
    "    plt.grid(False)\n",
    "    plt.plot(env)\n",
    "    plt.plot(np.array(diff)*np.exp(0.05*np.linspace(0,-71,71)))\n",
    "    #plt.ylim([0,10])\n",
    "    #plt.plot(spl.csumsmooth(indiv[i][1],5))\n",
    "    #plt.plot(spl.csumsmooth(indiv[i][2],5))\n",
    "    plt.hlines(0.05*np.max(diff),0,bps,colors='green', linestyle='--')\n",
    "    plt.vlines(indiv[i][4],0,np.max(indiv[i][1]),colors='green', linestyle='--')\n",
    "    plt.xlabel(\"{0}   {1}   {2}\".format(regionlist[i],indiv[i][3],indiv[i][4]))\n",
    "fig.patch.set_facecolor('white')\n",
    "#plt.savefig('4GM1.png')\n",
    "plt.show()"
   ],
   "outputs": [],
   "metadata": {}
  },
  {
   "cell_type": "code",
   "execution_count": null,
   "source": [
    "fig = plt.figure(figsize=(20,20))\n",
    "start = 50\n",
    "for i in range(start,start+25):\n",
    "    plt.subplot(5,5,i+1-start)\n",
    "    #plt.xticks([])\n",
    "    diff = indiv[i][1]-indiv[i][2]\n",
    "    ddx = np.abs(np.array(diff[1:])-np.array(diff[:-1]))\n",
    "    #plt.plot(diff, linestyle='--')\n",
    "    env = np.linspace(np.max(diff),0,71)\n",
    "    plt.grid(False)\n",
    "    #plt.plot(env)\n",
    "    #plt.plot(np.array(diff)*np.linspace(1,0,71))\n",
    "    #plt.ylim([0,10])\n",
    "    plt.plot(indiv[i][1])\n",
    "    plt.plot(indiv[i][2])\n",
    "    #plt.hlines(0.05*np.max(diff),0,bps,colors='green', linestyle='--')\n",
    "    plt.vlines(indiv[i][3],0,np.max(indiv[i][1]),colors='green', linestyle='--')\n",
    "    plt.xlabel(\"{0}   {1}   {2}\".format(regionlist[i],indiv[i][3],indiv[i][4]))\n",
    "fig.patch.set_facecolor('white')\n",
    "#plt.savefig('4GM1.png')\n",
    "plt.show()"
   ],
   "outputs": [],
   "metadata": {}
  },
  {
   "cell_type": "code",
   "execution_count": null,
   "source": [
    "#let us start by appending the siCtl + 20 min to beddf\n",
    "number = 4\n",
    "#number = [0,350,450,600,1000]\n",
    "beddf[6] = berr[5]\n",
    "\n",
    "#beddf = beddf[beddf[6]!=bps/2]\n",
    "\n",
    "beddf[7] = pd.qcut(beddf[6],number,labels=False)\n",
    "bins = pd.qcut(beddf[6],number,retbins=True)\n",
    "split = [beddf[beddf[7]==i] for i in range(number)]"
   ],
   "outputs": [],
   "metadata": {}
  },
  {
   "cell_type": "code",
   "execution_count": null,
   "source": [
    "fig = plt.figure(figsize=(10,7))\n",
    "plt.boxplot([i[6] for i in split],showfliers=False,notch=True)\n",
    "plt.xlabel('\"Window\" of speed')\n",
    "plt.ylabel('Distance travelled (kb)')\n",
    "plt.ylim([0,bps])\n",
    "plt.yticks([i*10 for i in yt],yt)\n",
    "plt.xticks([1,2,3,4], lab, rotation=0)\n",
    "fig.patch.set_facecolor('white')\n",
    "plt.savefig('windows.png')"
   ],
   "outputs": [],
   "metadata": {}
  },
  {
   "cell_type": "code",
   "execution_count": null,
   "source": [
    "lab = []\n",
    "for i in range(len(bins[-1])-1):\n",
    "    lab.append(\"{0:.2f}-{1:.2f}kb/min\".format(bins[-1][i]/200,bins[-1][i+1]/200))"
   ],
   "outputs": [],
   "metadata": {}
  },
  {
   "cell_type": "code",
   "execution_count": null,
   "source": [
    "bins[-1][:]"
   ],
   "outputs": [],
   "metadata": {}
  },
  {
   "cell_type": "code",
   "execution_count": null,
   "source": [
    "for i in split:\n",
    "    print(len(i))"
   ],
   "outputs": [],
   "metadata": {}
  },
  {
   "cell_type": "code",
   "execution_count": null,
   "source": [
    "rawseqs = [spl.getfastas(i) for i in split]"
   ],
   "outputs": [],
   "metadata": {}
  },
  {
   "cell_type": "code",
   "execution_count": null,
   "source": [
    "for i in range(len(rawseqs)):\n",
    "    tmp = []\n",
    "    for j in range(len(rawseqs[i])):\n",
    "        if(split[i].iloc[j,5]==\"+\"):\n",
    "            allcontent = sum(spl.one_hot_encode(rawseqs[i][j].seq[:300]))\n",
    "            GC_content = (allcontent[1]+allcontent[2])/len(rawseqs[i][j].seq[:300])\n",
    "        else:\n",
    "            allcontent = sum(spl.one_hot_encode(rawseqs[i][j].antisense[:300]))\n",
    "            GC_content = (allcontent[1]+allcontent[2])/len(rawseqs[i][j].antisense[:300])\n",
    "        tmp.append(GC_content)\n",
    "    split[i][8] = tmp"
   ],
   "outputs": [],
   "metadata": {}
  },
  {
   "cell_type": "code",
   "execution_count": null,
   "source": [
    "with open('splitgc_flipped.pickle', 'wb') as f:\n",
    "    pickle.dump(split,f)"
   ],
   "outputs": [],
   "metadata": {}
  },
  {
   "cell_type": "code",
   "execution_count": null,
   "source": [
    "fig = plt.figure(figsize=(10,7))\n",
    "#plt.boxplot([i[8] for i in split],showfliers=False,notch=True)\n",
    "plt.violinplot([i[8] for i in split], showmeans=True, showextrema=False)\n",
    "plt.ylabel('GC content in the first 300nt')\n",
    "plt.xlabel('\"Windows\" of Pol II speed')\n",
    "plt.ylim([0,1])\n",
    "plt.xticks([1,2,3,4], [\"n = {0}\".format(len(i)) for i in split])\n",
    "fig.patch.set_facecolor('white')\n",
    "plt.savefig('GC_content_viol.png')\n",
    "#plt.show()"
   ],
   "outputs": [],
   "metadata": {}
  },
  {
   "cell_type": "code",
   "execution_count": null,
   "source": [
    "from scipy.stats import ttest_ind\n",
    "\n",
    "for i in range(len(split)-1):\n",
    "    print(ttest_ind(split[i][8],split[i+1][8]))\n",
    "    \n",
    "print()\n",
    "print(ttest_ind(split[-1][8],split[0][8]))\n",
    "print(ttest_ind(split[-2][8],split[0][8]))"
   ],
   "outputs": [],
   "metadata": {}
  },
  {
   "cell_type": "markdown",
   "source": [
    "# hmm"
   ],
   "metadata": {}
  },
  {
   "cell_type": "code",
   "execution_count": null,
   "source": [
    "with open('d2u.pickle', 'rb') as f:\n",
    "    d2u = pickle.load(f)\n",
    "with open('ups.pickle', 'rb') as f:\n",
    "    ups = pickle.load(f)"
   ],
   "outputs": [],
   "metadata": {}
  },
  {
   "cell_type": "code",
   "execution_count": null,
   "source": [
    "ups1 = [i[::-1] for i in ups]\n",
    "upsran = list(range(-760,0))\n",
    "upsyt = []\n",
    "d2uyt = []"
   ],
   "outputs": [],
   "metadata": {}
  },
  {
   "cell_type": "code",
   "execution_count": null,
   "source": [
    "fig, axs = plt.subplots(6, 1, sharex=True, gridspec_kw={'hspace': 0}, figsize=[6,7.5], sharey=True)\n",
    "axs[0].plot(d2u[2])\n",
    "axs[0].plot(ups[2])\n",
    "axs[0].fill_between(np.arange(0,760), d2u[2], alpha=0.5, label='Sense coding gene')\n",
    "axs[0].fill_between(np.arange(0,760), ups[2], alpha=0.5, label='PROMPTs')\n",
    "#axs[0].text(170, 0.3, '0 min')\n",
    "axs[0].legend(loc='upper left')\n",
    "\n",
    "axs[1].plot(d2u[3])\n",
    "axs[1].plot(ups[3])\n",
    "axs[1].fill_between(np.arange(0,760), d2u[3], alpha=0.5)\n",
    "axs[1].fill_between(np.arange(0,760), ups[3], alpha=0.5)\n",
    "\n",
    "axs[2].plot(d2u[6])\n",
    "axs[2].plot(ups[6])\n",
    "axs[2].fill_between(np.arange(0,760), d2u[6], alpha=0.5)\n",
    "axs[2].fill_between(np.arange(0,760), ups[6], alpha=0.5)\n",
    "#axs[1].text(170, 0.3, '5 min')\n",
    "\n",
    "axs[3].plot(d2u[7])\n",
    "axs[3].plot(ups[7])\n",
    "axs[3].fill_between(np.arange(0,760), d2u[7], alpha=0.5)\n",
    "axs[3].fill_between(np.arange(0,760), ups[7], alpha=0.5)\n",
    "#axs[2].text(170, 0.3, '10 min')\n",
    "\n",
    "axs[4].plot(d2u[10])\n",
    "axs[4].plot(ups[10])\n",
    "axs[4].fill_between(np.arange(0,760), d2u[10], alpha=0.5)\n",
    "axs[4].fill_between(np.arange(0,760), ups[10], alpha=0.5)\n",
    "\n",
    "axs[5].plot(d2u[11]*0.75)\n",
    "axs[5].plot(ups[11])\n",
    "axs[5].fill_between(np.arange(0,760), d2u[11]*0.75, alpha=0.5)\n",
    "axs[5].fill_between(np.arange(0,760), ups[11], alpha=0.5)\n",
    "\n",
    "#fig.suptitle('RNAP II elongation rate in Genes vs PROMPTs', x=0.5, y=0.92)\n",
    "#fig.text(0.03, 0.5, 'Normalised Read Density', va='center', rotation='vertical')\n",
    "plt.xlabel('Kilobases from TSS')\n",
    "plt.xlim([0, 200])\n",
    "plt.xticks([0,50,100,150,200], [0,5,10,15,20])\n",
    "plt.show()"
   ],
   "outputs": [],
   "metadata": {}
  },
  {
   "cell_type": "code",
   "execution_count": null,
   "source": [
    "fig, axs = plt.subplots(12, 1, sharex=True, gridspec_kw={'hspace': 0}, figsize=[5.78,10], sharey=False)\n",
    "axs[0].plot(d2u[2], color='red')\n",
    "axs[0].fill_between(np.arange(0,760), d2u[2], alpha=1, label='Sense coding gene', color='red')\n",
    "axs[0].set_ylim([0,30])\n",
    "axs[0].set_yticks(d2uyt)\n",
    "\n",
    "axs[1].plot(upsran,ups1[2], color='red')\n",
    "axs[1].fill_between(upsran, ups1[2], alpha=1, label='PROMPTs', color='red')\n",
    "axs[1].set_ylim([0,13])\n",
    "axs[1].set_yticks(upsyt)\n",
    "\n",
    "axs[2].plot(d2u[3], color='red')\n",
    "axs[2].fill_between(np.arange(0,760), d2u[3], alpha=1, color='red')\n",
    "axs[2].set_ylim([0,30])\n",
    "axs[2].set_yticks(d2uyt)\n",
    "\n",
    "axs[3].plot(upsran,ups1[3], color='red')\n",
    "axs[3].fill_between(upsran, ups1[3], alpha=1, color='red')\n",
    "axs[3].set_ylim([0,13])\n",
    "axs[3].set_yticks(upsyt)\n",
    "\n",
    "axs[4].plot(d2u[6], color='limegreen')\n",
    "axs[4].fill_between(np.arange(0,760), d2u[6], alpha=1, color='limegreen')\n",
    "axs[4].set_ylim([0,30])\n",
    "axs[4].set_yticks(d2uyt)\n",
    "\n",
    "axs[5].plot(upsran,ups1[6], color='limegreen')\n",
    "axs[5].fill_between(upsran, ups1[6], alpha=1, color='limegreen')\n",
    "axs[5].set_ylim([0,13])\n",
    "axs[5].set_yticks(upsyt)\n",
    "\n",
    "axs[6].plot(d2u[7], color='limegreen')\n",
    "axs[6].fill_between(np.arange(0,760), d2u[7], alpha=1, color='limegreen')\n",
    "axs[6].set_ylim([0,30])\n",
    "axs[6].set_yticks(d2uyt)\n",
    "\n",
    "axs[7].plot(upsran,ups1[7], color='limegreen')\n",
    "axs[7].fill_between(upsran, ups1[7], alpha=1, color='limegreen')\n",
    "axs[7].set_ylim([0,13])\n",
    "axs[7].set_yticks(upsyt)\n",
    "\n",
    "axs[8].plot(d2u[10], color='darkcyan')\n",
    "axs[8].fill_between(np.arange(0,760), d2u[10], alpha=1, color='darkcyan')\n",
    "axs[8].set_ylim([0,30])\n",
    "axs[8].set_yticks(d2uyt)\n",
    "\n",
    "axs[9].plot(upsran,ups1[10], color='darkcyan')\n",
    "axs[9].fill_between(upsran, ups1[10], alpha=1, color='darkcyan')\n",
    "axs[9].set_ylim([0,13])\n",
    "axs[9].set_yticks(upsyt)\n",
    "\n",
    "axs[10].plot(d2u[11]*0.65, color='darkcyan')\n",
    "axs[10].fill_between(np.arange(0,760), d2u[11]*0.65, alpha=1, color='darkcyan')\n",
    "axs[10].set_ylim([0,30])\n",
    "axs[10].set_yticks(d2uyt)\n",
    "\n",
    "axs[11].plot(upsran,ups1[11], color='darkcyan')\n",
    "axs[11].fill_between(upsran, ups1[11], alpha=1, color='darkcyan')\n",
    "axs[11].set_ylim([0,13])\n",
    "axs[11].set_yticks(upsyt)\n",
    "\n",
    "#fig.suptitle('RNAP II elongation rate in Genes vs PROMPTs', x=0.5, y=0.92)\n",
    "#fig.text(0.03, 0.5, 'Normalised Read Density', va='center', rotation='vertical')\n",
    "#plt.xlabel('Kilobases from TSS')\n",
    "plt.xlim([-130, 200])\n",
    "#plt.xticks([-100,-50,0,50,100,150,200], [-10,-5,0,5,10,15,20])\n",
    "plt.xticks([])\n",
    "plt.show()\n",
    "with PdfPages('foo.pdf') as pdf:\n",
    "    pdf.savefig(fig)"
   ],
   "outputs": [],
   "metadata": {}
  },
  {
   "cell_type": "code",
   "execution_count": null,
   "source": [],
   "outputs": [],
   "metadata": {}
  }
 ],
 "metadata": {
  "kernelspec": {
   "name": "python3",
   "display_name": "Python 3.9.6 64-bit"
  },
  "language_info": {
   "codemirror_mode": {
    "name": "ipython",
    "version": 3
   },
   "file_extension": ".py",
   "mimetype": "text/x-python",
   "name": "python",
   "nbconvert_exporter": "python",
   "pygments_lexer": "ipython3",
   "version": "3.9.6"
  },
  "interpreter": {
   "hash": "aee8b7b246df8f9039afb4144a1f6fd8d2ca17a180786b69acc140d282b71a49"
  }
 },
 "nbformat": 4,
 "nbformat_minor": 5
}